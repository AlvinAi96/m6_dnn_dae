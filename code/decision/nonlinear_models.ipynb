{
 "cells": [
  {
   "cell_type": "code",
   "execution_count": null,
   "metadata": {},
   "outputs": [],
   "source": [
    "import pandas as pd\n",
    "from utils_m6 import *\n",
    "import warnings\n",
    "warnings.filterwarnings(\"ignore\")"
   ]
  },
  {
   "cell_type": "code",
   "execution_count": 2,
   "metadata": {},
   "outputs": [
    {
     "data": {
      "text/plain": [
       "(1284, 100)"
      ]
     },
     "execution_count": 2,
     "metadata": {},
     "output_type": "execute_result"
    }
   ],
   "source": [
    "return_vec = pd.read_csv('real_returns_0501.csv')\n",
    "return_vec.shape"
   ]
  },
  {
   "cell_type": "markdown",
   "metadata": {},
   "source": [
    "## GA"
   ]
  },
  {
   "cell_type": "code",
   "execution_count": null,
   "metadata": {},
   "outputs": [],
   "source": [
    "def ga_func(train_data):\n",
    "    ga = GA_portfolio([-1]*100, [1]*100, train_data)\n",
    "    weights = ga.run(num_generation=100, num_parents_mating=100, num_genes=100, sol_per_pop=100)\n",
    "    return weights\n",
    "\n",
    "file_path = 'ga_weights'\n",
    "os.popen(f'mkdir {file_path}')\n",
    "out = rolling_experiment_result_nonlinear(return_vec, ga_func, 'GA', file_path)\n",
    "print_experiment_results(out)"
   ]
  },
  {
   "cell_type": "markdown",
   "metadata": {},
   "source": [
    "## PSO"
   ]
  },
  {
   "cell_type": "code",
   "execution_count": null,
   "metadata": {},
   "outputs": [],
   "source": [
    "def pso_func(train_data):\n",
    "    pso = PSO_portfolio(-1*np.ones(100), np.ones(100), train_data)\n",
    "    weights = pso.run(num_particles=100, num_genes=100, iters=100, options={'c1': 0.5, 'c2': 0.3, 'w':0.9})\n",
    "    return weights\n",
    "\n",
    "file_path = 'pso_weights'\n",
    "os.popen(f'mkdir {file_path}')\n",
    "out = rolling_experiment_result_nonlinear(return_vec, pso_func, 'PSO', file_path)\n",
    "print_experiment_results(out)"
   ]
  },
  {
   "cell_type": "code",
   "execution_count": null,
   "metadata": {},
   "outputs": [],
   "source": []
  }
 ],
 "metadata": {
  "kernelspec": {
   "display_name": "Python 3",
   "language": "python",
   "name": "python3"
  },
  "language_info": {
   "codemirror_mode": {
    "name": "ipython",
    "version": 3
   },
   "file_extension": ".py",
   "mimetype": "text/x-python",
   "name": "python",
   "nbconvert_exporter": "python",
   "pygments_lexer": "ipython3",
   "version": "3.10.13"
  }
 },
 "nbformat": 4,
 "nbformat_minor": 2
}
